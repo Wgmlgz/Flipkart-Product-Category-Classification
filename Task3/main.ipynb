{
  "nbformat": 4,
  "nbformat_minor": 0,
  "metadata": {
    "colab": {
      "name": "main.ipynb",
      "provenance": [],
      "collapsed_sections": []
    },
    "kernelspec": {
      "name": "python3",
      "display_name": "Python 3"
    },
    "language_info": {
      "name": "python"
    }
  },
  "cells": [
    {
      "cell_type": "markdown",
      "metadata": {
        "id": "r3ektk4A09w4"
      },
      "source": [
        "# Importing Necessary Modules"
      ]
    },
    {
      "cell_type": "code",
      "metadata": {
        "colab": {
          "base_uri": "https://localhost:8080/"
        },
        "id": "_RHX3aAT7fFb",
        "outputId": "0e4f092c-090f-44d2-9812-8560a74e79d9"
      },
      "source": [
        "from utils import Utils\n",
        "from sklearn import naive_bayes\n",
        "from sklearn import ensemble\n",
        "from sklearn.svm import LinearSVC\n",
        "import seaborn as sns\n",
        "import matplotlib.pyplot as plt"
      ],
      "execution_count": null,
      "outputs": [
        {
          "output_type": "stream",
          "text": [
            "[nltk_data] Downloading package stopwords to /root/nltk_data...\n",
            "[nltk_data]   Package stopwords is already up-to-date!\n",
            "[nltk_data] Downloading package punkt to /root/nltk_data...\n",
            "[nltk_data]   Package punkt is already up-to-date!\n"
          ],
          "name": "stdout"
        }
      ]
    },
    {
      "cell_type": "code",
      "metadata": {
        "colab": {
          "base_uri": "https://localhost:8080/"
        },
        "id": "6A2a_5T88OOR",
        "outputId": "c5089f26-12a6-45aa-a6cf-71e77af6bfdb"
      },
      "source": [
        "from google.colab import drive\n",
        "drive.mount('/content/drive')"
      ],
      "execution_count": null,
      "outputs": [
        {
          "output_type": "stream",
          "text": [
            "Drive already mounted at /content/drive; to attempt to forcibly remount, call drive.mount(\"/content/drive\", force_remount=True).\n"
          ],
          "name": "stdout"
        }
      ]
    },
    {
      "cell_type": "code",
      "metadata": {
        "id": "rM98VROc8B6p"
      },
      "source": [
        "utils = Utils()"
      ],
      "execution_count": null,
      "outputs": []
    },
    {
      "cell_type": "code",
      "metadata": {
        "colab": {
          "base_uri": "https://localhost:8080/",
          "height": 419
        },
        "id": "N9_gPHh88DcS",
        "outputId": "36db18c2-0984-433b-ab71-a36c11f9eda7"
      },
      "source": [
        "data = utils.read_data(\"/content/drive/My Drive/MIDAS-IIITD-Task-2021/Task3/dataset.tsv\", \n",
        "                       sep=\"\\t\", \n",
        "                       usecols=['uniq_id', 'product_name', 'product_category_tree', 'description'])\n",
        "data"
      ],
      "execution_count": null,
      "outputs": [
        {
          "output_type": "execute_result",
          "data": {
            "text/html": [
              "<div>\n",
              "<style scoped>\n",
              "    .dataframe tbody tr th:only-of-type {\n",
              "        vertical-align: middle;\n",
              "    }\n",
              "\n",
              "    .dataframe tbody tr th {\n",
              "        vertical-align: top;\n",
              "    }\n",
              "\n",
              "    .dataframe thead th {\n",
              "        text-align: right;\n",
              "    }\n",
              "</style>\n",
              "<table border=\"1\" class=\"dataframe\">\n",
              "  <thead>\n",
              "    <tr style=\"text-align: right;\">\n",
              "      <th></th>\n",
              "      <th>uniq_id</th>\n",
              "      <th>product_name</th>\n",
              "      <th>product_category_tree</th>\n",
              "      <th>description</th>\n",
              "    </tr>\n",
              "  </thead>\n",
              "  <tbody>\n",
              "    <tr>\n",
              "      <th>0</th>\n",
              "      <td>c2d766ca982eca8304150849735ffef9</td>\n",
              "      <td>Alisha Solid Women's Cycling Shorts</td>\n",
              "      <td>[\"Clothing &gt;&gt; Women's Clothing &gt;&gt; Lingerie, Sl...</td>\n",
              "      <td>Key Features of Alisha Solid Women's Cycling S...</td>\n",
              "    </tr>\n",
              "    <tr>\n",
              "      <th>1</th>\n",
              "      <td>7f7036a6d550aaa89d34c77bd39a5e48</td>\n",
              "      <td>FabHomeDecor Fabric Double Sofa Bed</td>\n",
              "      <td>[\"Furniture &gt;&gt; Living Room Furniture &gt;&gt; Sofa B...</td>\n",
              "      <td>FabHomeDecor Fabric Double Sofa Bed (Finish Co...</td>\n",
              "    </tr>\n",
              "    <tr>\n",
              "      <th>2</th>\n",
              "      <td>f449ec65dcbc041b6ae5e6a32717d01b</td>\n",
              "      <td>AW Bellies</td>\n",
              "      <td>[\"Footwear &gt;&gt; Women's Footwear &gt;&gt; Ballerinas &gt;...</td>\n",
              "      <td>Key Features of AW Bellies Sandals Wedges Heel...</td>\n",
              "    </tr>\n",
              "    <tr>\n",
              "      <th>3</th>\n",
              "      <td>0973b37acd0c664e3de26e97e5571454</td>\n",
              "      <td>Alisha Solid Women's Cycling Shorts</td>\n",
              "      <td>[\"Clothing &gt;&gt; Women's Clothing &gt;&gt; Lingerie, Sl...</td>\n",
              "      <td>Key Features of Alisha Solid Women's Cycling S...</td>\n",
              "    </tr>\n",
              "    <tr>\n",
              "      <th>4</th>\n",
              "      <td>bc940ea42ee6bef5ac7cea3fb5cfbee7</td>\n",
              "      <td>Sicons All Purpose Arnica Dog Shampoo</td>\n",
              "      <td>[\"Pet Supplies &gt;&gt; Grooming &gt;&gt; Skin &amp; Coat Care...</td>\n",
              "      <td>Specifications of Sicons All Purpose Arnica Do...</td>\n",
              "    </tr>\n",
              "    <tr>\n",
              "      <th>...</th>\n",
              "      <td>...</td>\n",
              "      <td>...</td>\n",
              "      <td>...</td>\n",
              "      <td>...</td>\n",
              "    </tr>\n",
              "    <tr>\n",
              "      <th>19995</th>\n",
              "      <td>7179d2f6c4ad50a17d014ca1d2815156</td>\n",
              "      <td>WallDesign Small Vinyl Sticker</td>\n",
              "      <td>[\"Baby Care &gt;&gt; Baby &amp; Kids Gifts &gt;&gt; Stickers &gt;...</td>\n",
              "      <td>Buy WallDesign Small Vinyl Sticker for Rs.730 ...</td>\n",
              "    </tr>\n",
              "    <tr>\n",
              "      <th>19996</th>\n",
              "      <td>71ac419198359d37b8fe5e3fffdfee09</td>\n",
              "      <td>Wallmantra Large Vinyl Stickers Sticker</td>\n",
              "      <td>[\"Baby Care &gt;&gt; Baby &amp; Kids Gifts &gt;&gt; Stickers &gt;...</td>\n",
              "      <td>Buy Wallmantra Large Vinyl Stickers Sticker fo...</td>\n",
              "    </tr>\n",
              "    <tr>\n",
              "      <th>19997</th>\n",
              "      <td>93e9d343837400ce0d7980874ece471c</td>\n",
              "      <td>Elite Collection Medium Acrylic Sticker</td>\n",
              "      <td>[\"Baby Care &gt;&gt; Baby &amp; Kids Gifts &gt;&gt; Stickers &gt;...</td>\n",
              "      <td>Buy Elite Collection Medium Acrylic Sticker fo...</td>\n",
              "    </tr>\n",
              "    <tr>\n",
              "      <th>19998</th>\n",
              "      <td>669e79b8fa5d9ae020841c0c97d5e935</td>\n",
              "      <td>Elite Collection Medium Acrylic Sticker</td>\n",
              "      <td>[\"Baby Care &gt;&gt; Baby &amp; Kids Gifts &gt;&gt; Stickers &gt;...</td>\n",
              "      <td>Buy Elite Collection Medium Acrylic Sticker fo...</td>\n",
              "    </tr>\n",
              "    <tr>\n",
              "      <th>19999</th>\n",
              "      <td>cb4fa87a874f715fff567f7b7b3be79c</td>\n",
              "      <td>Elite Collection Medium Acrylic Sticker</td>\n",
              "      <td>[\"Baby Care &gt;&gt; Baby &amp; Kids Gifts &gt;&gt; Stickers &gt;...</td>\n",
              "      <td>Buy Elite Collection Medium Acrylic Sticker fo...</td>\n",
              "    </tr>\n",
              "  </tbody>\n",
              "</table>\n",
              "<p>20000 rows × 4 columns</p>\n",
              "</div>"
            ],
            "text/plain": [
              "                                uniq_id  ...                                        description\n",
              "0      c2d766ca982eca8304150849735ffef9  ...  Key Features of Alisha Solid Women's Cycling S...\n",
              "1      7f7036a6d550aaa89d34c77bd39a5e48  ...  FabHomeDecor Fabric Double Sofa Bed (Finish Co...\n",
              "2      f449ec65dcbc041b6ae5e6a32717d01b  ...  Key Features of AW Bellies Sandals Wedges Heel...\n",
              "3      0973b37acd0c664e3de26e97e5571454  ...  Key Features of Alisha Solid Women's Cycling S...\n",
              "4      bc940ea42ee6bef5ac7cea3fb5cfbee7  ...  Specifications of Sicons All Purpose Arnica Do...\n",
              "...                                 ...  ...                                                ...\n",
              "19995  7179d2f6c4ad50a17d014ca1d2815156  ...  Buy WallDesign Small Vinyl Sticker for Rs.730 ...\n",
              "19996  71ac419198359d37b8fe5e3fffdfee09  ...  Buy Wallmantra Large Vinyl Stickers Sticker fo...\n",
              "19997  93e9d343837400ce0d7980874ece471c  ...  Buy Elite Collection Medium Acrylic Sticker fo...\n",
              "19998  669e79b8fa5d9ae020841c0c97d5e935  ...  Buy Elite Collection Medium Acrylic Sticker fo...\n",
              "19999  cb4fa87a874f715fff567f7b7b3be79c  ...  Buy Elite Collection Medium Acrylic Sticker fo...\n",
              "\n",
              "[20000 rows x 4 columns]"
            ]
          },
          "metadata": {
            "tags": []
          },
          "execution_count": 21
        }
      ]
    },
    {
      "cell_type": "code",
      "metadata": {
        "colab": {
          "base_uri": "https://localhost:8080/"
        },
        "id": "Mj7ccaEvl7Mc",
        "outputId": "b93cd262-cdd6-493c-a6c8-72e74780bf22"
      },
      "source": [
        "data = utils.generate_label(data, top=25)\n",
        "data.label.value_counts()"
      ],
      "execution_count": null,
      "outputs": [
        {
          "output_type": "execute_result",
          "data": {
            "text/plain": [
              "Clothing                             6198\n",
              "Jewellery                            3531\n",
              "Footwear                             1227\n",
              "Mobiles & Accessories                1099\n",
              "Automotive                           1012\n",
              "Home Decor & Festive Needs            929\n",
              "Beauty and Personal Care              710\n",
              "Home Furnishing                       700\n",
              "Kitchen & Dining                      647\n",
              "Computers                             578\n",
              "Watches                               530\n",
              "Baby Care                             483\n",
              "Tools & Hardware                      391\n",
              "Toys & School Supplies                330\n",
              "Pens & Stationery                     313\n",
              "Bags, Wallets & Belts                 265\n",
              "Furniture                             180\n",
              "Sports & Fitness                      166\n",
              "Cameras & Accessories                  82\n",
              "Home Improvement                       81\n",
              "Health & Personal Care Appliances      43\n",
              "Sunglasses                             35\n",
              "Gaming                                 35\n",
              "Pet Supplies                           30\n",
              "Home & Kitchen                         24\n",
              "Name: label, dtype: int64"
            ]
          },
          "metadata": {
            "tags": []
          },
          "execution_count": 22
        }
      ]
    },
    {
      "cell_type": "code",
      "metadata": {
        "colab": {
          "base_uri": "https://localhost:8080/",
          "height": 631
        },
        "id": "orNOFrlZ9i3T",
        "outputId": "29b189cf-da5c-4bb5-9825-2146bcc95fbd"
      },
      "source": [
        "plt.figure(figsize=(10,10))\n",
        "data['label'].value_counts().sort_values(ascending=False).plot(kind='barh')\n",
        "plt.yticks(fontsize=12)\n",
        "plt.xticks(fontsize=12)"
      ],
      "execution_count": null,
      "outputs": [
        {
          "output_type": "execute_result",
          "data": {
            "text/plain": [
              "(array([   0., 1000., 2000., 3000., 4000., 5000., 6000., 7000.]),\n",
              " <a list of 8 Text major ticklabel objects>)"
            ]
          },
          "metadata": {
            "tags": []
          },
          "execution_count": 24
        },
        {
          "output_type": "display_data",
          "data": {
            "image/png": "[encoded data removed]",
            "text/plain": [
              "<Figure size 720x720 with 1 Axes>"
            ]
          },
          "metadata": {
            "tags": [],
            "needs_background": "light"
          }
        }
      ]
    },
    {
      "cell_type": "code",
      "metadata": {
        "colab": {
          "base_uri": "https://localhost:8080/"
        },
        "id": "n-Q6v9fe2iPP",
        "outputId": "63af6225-a636-41cf-9542-afe9e07364e2"
      },
      "source": [
        "x_train, x_test, y_train, y_test = utils.prepare_data(data, test_size=0.3)\n",
        "\n",
        "print(x_train.shape)\n",
        "print(y_train.shape)\n",
        "\n",
        "print(x_test.shape)\n",
        "print(y_test.shape)"
      ],
      "execution_count": null,
      "outputs": [
        {
          "output_type": "stream",
          "text": [
            "(13733,)\n",
            "(13733,)\n",
            "(5886,)\n",
            "(5886,)\n"
          ],
          "name": "stdout"
        }
      ]
    },
    {
      "cell_type": "code",
      "metadata": {
        "colab": {
          "base_uri": "https://localhost:8080/"
        },
        "id": "8g9c9ArKQUGu",
        "outputId": "c6707f3d-7bca-428d-b3a9-549ee8d612a3"
      },
      "source": [
        "# Prepare text data features\n",
        "\n",
        "xtrain_count, xvalid_count = utils.count_vectorize(x_train, \n",
        "                                                   x_test,\n",
        "                                                   analyzer='word', \n",
        "                                                   token_pattern=r'\\w{1,}', \n",
        "                                                   max_features=10000, \n",
        "                                                   ngram_range=(1,1))\n",
        "\n",
        "xtrain_count_bi, xvalid_count_bi = utils.count_vectorize(x_train, \n",
        "                                                         x_test,\n",
        "                                                         analyzer='word', \n",
        "                                                         token_pattern=r'\\w{1,}', \n",
        "                                                         max_features=10000, \n",
        "                                                         ngram_range=(1,2))\n",
        "\n",
        "xtrain_count_ngram, xvalid_count_ngram = utils.count_vectorize(x_train, \n",
        "                                                               x_test,\n",
        "                                                               analyzer='word', \n",
        "                                                               token_pattern=r'\\w{1,}', \n",
        "                                                               max_features=10000, \n",
        "                                                               ngram_range=(1,3))\n",
        "\n",
        "\n",
        "xtrain_tfidf, xvalid_tfidf = utils.tf_idf_vectorize(x_train, \n",
        "                                                    x_test, \n",
        "                                                    analyzer='word', \n",
        "                                                    token_pattern=r'\\w{1,}', \n",
        "                                                    max_features=10000, \n",
        "                                                    ngram_range=(1,1))\n",
        "\n",
        "\n",
        "xtrain_tfidf_bi, xvalid_tfidf_bi = utils.tf_idf_vectorize(x_train, \n",
        "                                                          x_test, \n",
        "                                                          analyzer='word', \n",
        "                                                          token_pattern=r'\\w{1,}', \n",
        "                                                          max_features=10000, \n",
        "                                                          ngram_range=(1,2))\n",
        "\n",
        "\n",
        "xtrain_tfidf_ngram, xvalid_tfidf_ngram = utils.tf_idf_vectorize(x_train, \n",
        "                                                                x_test,\n",
        "                                                                analyzer='word', \n",
        "                                                                token_pattern=r'\\w{1,}', \n",
        "                                                                max_features=10000, \n",
        "                                                                ngram_range=(1,3))\n",
        "\n",
        "xtrain_tfidf_ngram_chars, xvalid_tfidf_ngram_chars = utils.tf_idf_vectorize(x_train, \n",
        "                                                                            x_test,\n",
        "                                                                            analyzer='char', \n",
        "                                                                            token_pattern=r'\\w{1,}', \n",
        "                                                                            max_features=10000, \n",
        "                                                                            ngram_range=(2,3))\n",
        "print(\"\\nPrepared features for Input data\")"
      ],
      "execution_count": null,
      "outputs": [
        {
          "output_type": "stream",
          "text": [
            "\n",
            "Prepared features for Input data\n"
          ],
          "name": "stdout"
        }
      ]
    },
    {
      "cell_type": "code",
      "metadata": {
        "colab": {
          "base_uri": "https://localhost:8080/"
        },
        "id": "xspOfUHhTI8U",
        "outputId": "1c8eb946-2d8c-4a00-cbe6-21760054e252"
      },
      "source": [
        "print(\"\\n ----------------------------------- Evaluation on Multinomial Naive Bayes -----------------------------------n\\n\")\n",
        "# Naive Bayes on Count Vectors\n",
        "accuracy = utils.train_ml_model(naive_bayes.MultinomialNB(), xtrain_count, xvalid_count, y_train, y_test)\n",
        "print(\"Naive Bayes, Count Vectors: \", accuracy)\n",
        "\n",
        "# Naive Bayes on bigram Count Vectors\n",
        "accuracy = utils.train_ml_model(naive_bayes.MultinomialNB(), xtrain_count_bi, xvalid_count_bi, y_train, y_test)\n",
        "print(\"\\nNaive Bayes, bigram Count Vectors: \", accuracy)\n",
        "\n",
        "# Naive Bayes on ngram Count Vectors\n",
        "accuracy = utils.train_ml_model(naive_bayes.MultinomialNB(), xtrain_count_ngram, xvalid_count_ngram, y_train, y_test)\n",
        "print(\"\\nNaive Bayes, ngram Count Vectors: \", accuracy)\n",
        "\n",
        "# Naive Bayes on Word Level TF IDF Vectors\n",
        "accuracy = utils.train_ml_model(naive_bayes.MultinomialNB(), xtrain_tfidf, xvalid_tfidf, y_train, y_test)\n",
        "print(\"\\nNaive Bayes, WordLevel TF-IDF: \", accuracy)\n",
        "\n",
        "# Naive Bayes on Word Level bigram TF IDF Vectors\n",
        "accuracy = utils.train_ml_model(naive_bayes.MultinomialNB(), xtrain_tfidf_bi, xvalid_tfidf_bi, y_train, y_test)\n",
        "print(\"\\nNaive Bayes, WordLevel bigram TF-IDF: \", accuracy)\n",
        "\n",
        "# Naive Bayes on Ngram Level TF IDF Vectors\n",
        "accuracy = utils.train_ml_model(naive_bayes.MultinomialNB(), xtrain_tfidf_ngram, xvalid_tfidf_ngram, y_train, y_test)\n",
        "print(\"\\nNaive Bayes, WordLevel ngram TF-IDF: \", accuracy)\n",
        "\n",
        "# Naive Bayes on Character Level TF IDF Vectors\n",
        "accuracy = utils.train_ml_model(naive_bayes.MultinomialNB(), xtrain_tfidf_ngram_chars, xvalid_tfidf_ngram_chars, y_train, y_test)\n",
        "print(\"\\nNaive Bayes, CharLevel ngram TF-IDF: \", accuracy)"
      ],
      "execution_count": null,
      "outputs": [
        {
          "output_type": "stream",
          "text": [
            "\n",
            " ----------------------------------- Evaluation on Multinomial Naive Bayes -----------------------------------n\n",
            "\n",
            "Naive Bayes, Count Vectors:  0.928644240570846\n",
            "\n",
            "Naive Bayes, bigram Count Vectors:  0.9084267753992524\n",
            "\n",
            "Naive Bayes, ngram Count Vectors:  0.8858307849133538\n",
            "\n",
            "Naive Bayes, WordLevel TF-IDF:  0.8620455317703024\n",
            "\n",
            "Naive Bayes, WordLevel bigram TF-IDF:  0.9055385660890248\n",
            "\n",
            "Naive Bayes, WordLevel ngram TF-IDF:  0.9021406727828746\n",
            "\n",
            "Naive Bayes, CharLevel ngram TF-IDF:  0.7319062181447502\n"
          ],
          "name": "stdout"
        }
      ]
    },
    {
      "cell_type": "code",
      "metadata": {
        "colab": {
          "base_uri": "https://localhost:8080/"
        },
        "id": "HK0_6NaPP6OC",
        "outputId": "2dc7bb9d-589a-410d-9e24-a8fc5145624e"
      },
      "source": [
        "print(\"\\n ----------------------------------- Evaluation on Random Forest -----------------------------------n\\n\")\n",
        "# Random Forest on Count Vectors\n",
        "accuracy = utils.train_ml_model(ensemble.RandomForestClassifier(n_estimators=100), xtrain_count, xvalid_count, y_train, y_test)\n",
        "print(\"Random Forest, Count Vectors: \", accuracy)\n",
        "\n",
        "# Random Forest on bigram Count Vectors\n",
        "accuracy = utils.train_ml_model(ensemble.RandomForestClassifier(n_estimators=100), xtrain_count_bi, xvalid_count_bi, y_train, y_test)\n",
        "print(\"\\nRandom Forest, bigram Count Vectors: \", accuracy)\n",
        "\n",
        "# Random Forest on ngram Count Vectors\n",
        "accuracy = utils.train_ml_model(ensemble.RandomForestClassifier(n_estimators=100), xtrain_count_ngram, xvalid_count_ngram, y_train, y_test)\n",
        "print(\"\\nRandom Forest, ngram Count Vectors: \", accuracy)\n",
        "\n",
        "# Random Forest on Word Level TF IDF Vectors\n",
        "accuracy = utils.train_ml_model(ensemble.RandomForestClassifier(n_estimators=100), xtrain_tfidf, xvalid_tfidf, y_train, y_test)\n",
        "print(\"\\nRandom Forest, WordLevel TF-IDF: \", accuracy)\n",
        "\n",
        "# Random Forest on Word Level bigram TF IDF Vectors\n",
        "accuracy = utils.train_ml_model(ensemble.RandomForestClassifier(n_estimators=100), xtrain_tfidf_bi, xvalid_tfidf_bi, y_train, y_test)\n",
        "print(\"\\nRandom Forest, WordLevel bigram TF-IDF: \", accuracy)\n",
        "\n",
        "# Random Forest on Ngram Level TF IDF Vectors\n",
        "accuracy = utils.train_ml_model(ensemble.RandomForestClassifier(n_estimators=100), xtrain_tfidf_ngram, xvalid_tfidf_ngram, y_train, y_test)\n",
        "print(\"\\nNRandom Forest, WordLevel ngram TF-IDF: \", accuracy)\n",
        "\n",
        "# Random Forest on Character Level TF IDF Vectors\n",
        "accuracy = utils.train_ml_model(ensemble.RandomForestClassifier(n_estimators=100), xtrain_tfidf_ngram_chars, xvalid_tfidf_ngram_chars, y_train, y_test)\n",
        "print(\"\\nRandom Forest, CharLevel ngram TF-IDF: \", accuracy)"
      ],
      "execution_count": null,
      "outputs": [
        {
          "output_type": "stream",
          "text": [
            "\n",
            " ----------------------------------- Evaluation on Random Forest -----------------------------------n\n",
            "\n",
            "Random Forest, Count Vectors:  0.9655113829425757\n",
            "\n",
            "Random Forest, bigram Count Vectors:  0.971967380224261\n",
            "\n",
            "Random Forest, ngram Count Vectors:  0.971967380224261\n",
            "\n",
            "Random Forest, WordLevel TF-IDF:  0.9575263336731227\n",
            "\n",
            "Random Forest, WordLevel bigram TF-IDF:  0.9624532789670405\n",
            "\n",
            "NRandom Forest, WordLevel ngram TF-IDF:  0.9605844376486579\n",
            "\n",
            "Random Forest, CharLevel ngram TF-IDF:  0.9459734964322121\n"
          ],
          "name": "stdout"
        }
      ]
    },
    {
      "cell_type": "code",
      "metadata": {
        "colab": {
          "base_uri": "https://localhost:8080/"
        },
        "id": "kcb7mBilQB_o",
        "outputId": "3b40d870-ac3c-41a3-e48b-970fb97f093a"
      },
      "source": [
        "print(\"\\n ----------------------------------- Evaluation on Linear SVC -----------------------------------n\\n\")\n",
        "# LinearSVC on Count Vectors\n",
        "accuracy = utils.train_ml_model(LinearSVC(max_iter=15000), xtrain_count, xvalid_count, y_train, y_test)\n",
        "print(\"LinearSVC, Count Vectors: \", accuracy)\n",
        "\n",
        "# LinearSVC on bigram Count Vectors\n",
        "accuracy = utils.train_ml_model(LinearSVC(max_iter=15000), xtrain_count_bi, xvalid_count_bi, y_train, y_test)\n",
        "print(\"\\nLinearSVC, bigram Count Vectors: \", accuracy)\n",
        "\n",
        "# LinearSVC on ngram Count Vectors\n",
        "accuracy = utils.train_ml_model(LinearSVC(max_iter=20000), xtrain_count_ngram, xvalid_count_ngram, y_train, y_test)\n",
        "print(\"\\nLinearSVC, ngram Count Vectors: \", accuracy)\n",
        "\n",
        "# LinearSVC on Word Level TF IDF Vectors\n",
        "accuracy = utils.train_ml_model(LinearSVC(max_iter=15000), xtrain_tfidf, xvalid_tfidf, y_train, y_test)\n",
        "print(\"\\nLinearSVC, WordLevel TF-IDF: \", accuracy)\n",
        "\n",
        "# LinearSVC on Word Level bigram TF IDF Vectors\n",
        "accuracy = utils.train_ml_model(LinearSVC(max_iter=15000), xtrain_tfidf_bi, xvalid_tfidf_bi, y_train, y_test)\n",
        "print(\"\\nLinearSVC, WordLevel bigram TF-IDF: \", accuracy)\n",
        "\n",
        "# LinearSVC on Ngram Level TF IDF Vectors\n",
        "accuracy = utils.train_ml_model(LinearSVC(max_iter=15000), xtrain_tfidf_ngram, xvalid_tfidf_ngram, y_train, y_test)\n",
        "print(\"\\nLinearSVC, WordLevel ngram TF-IDF: \", accuracy)\n",
        "\n",
        "# LinearSVC on Character Level TF IDF Vectors\n",
        "accuracy = utils.train_ml_model(LinearSVC(max_iter=15000), xtrain_tfidf_ngram_chars, xvalid_tfidf_ngram_chars, y_train, y_test)\n",
        "print(\"\\nLinearSVC, CharLevel ngram TF-IDF: \", accuracy)"
      ],
      "execution_count": null,
      "outputs": [
        {
          "output_type": "stream",
          "text": [
            "\n",
            " ----------------------------------- Evaluation on Linear SVC -----------------------------------n\n",
            "\n",
            "LinearSVC, Count Vectors:  0.9717974855589534\n",
            "\n",
            "LinearSVC, bigram Count Vectors:  0.9685694869181107\n"
          ],
          "name": "stdout"
        },
        {
          "output_type": "stream",
          "text": [
            "/usr/local/lib/python3.7/dist-packages/sklearn/svm/_base.py:947: ConvergenceWarning: Liblinear failed to converge, increase the number of iterations.\n",
            "  \"the number of iterations.\", ConvergenceWarning)\n"
          ],
          "name": "stderr"
        },
        {
          "output_type": "stream",
          "text": [
            "\n",
            "LinearSVC, ngram Count Vectors:  0.9682296975874958\n",
            "\n",
            "LinearSVC, WordLevel TF-IDF:  0.9789330615018689\n",
            "\n",
            "NLinearSVC, WordLevel bigram TF-IDF:  0.9780835881753313\n",
            "\n",
            "LinearSVC, WordLevel ngram TF-IDF:  0.9775739041794088\n",
            "\n",
            "LinearSVC, CharLevel ngram TF-IDF:  0.9775739041794088\n"
          ],
          "name": "stdout"
        }
      ]
    },
    {
      "cell_type": "code",
      "metadata": {
        "id": "lNplvyAzQB5L"
      },
      "source": [
        ""
      ],
      "execution_count": null,
      "outputs": []
    }
  ]
}